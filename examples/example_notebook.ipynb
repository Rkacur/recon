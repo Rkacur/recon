{
 "cells": [
  {
   "cell_type": "markdown",
   "id": "69354634",
   "metadata": {},
   "source": [
    "# Example R Notebook\n",
    "This notebook demonstrates basic R concepts and functions. The content has been moved from the `example.R` file for better interactivity and explanation."
   ]
  },
  {
   "cell_type": "markdown",
   "id": "0d589629",
   "metadata": {},
   "source": [
    "## 1. Basic Arithmetic Operations\n",
    "R can be used as a calculator to perform basic arithmetic operations like addition, subtraction, multiplication, and division."
   ]
  },
  {
   "cell_type": "code",
   "execution_count": null,
   "id": "d2d8fae0",
   "metadata": {
    "vscode": {
     "languageId": "r"
    }
   },
   "outputs": [],
   "source": [
    "addition <- 5 + 3  # Adding two numbers\n",
    "subtraction <- 10 - 4  # Subtracting two numbers\n",
    "multiplication <- 6 * 7  # Multiplying two numbers\n",
    "division <- 20 / 4  # Dividing two numbers\n",
    "\n",
    "# Print the results\n",
    "print(paste(\"Addition:\", addition))\n",
    "print(paste(\"Subtraction:\", subtraction))\n",
    "print(paste(\"Multiplication:\", multiplication))\n",
    "print(paste(\"Division:\", division))"
   ]
  },
  {
   "cell_type": "markdown",
   "id": "964a1bcd",
   "metadata": {},
   "source": [
    "## 2. Creating and Manipulating Vectors\n",
    "Vectors are a fundamental data structure in R. This example demonstrates how to create a vector and perform element-wise operations."
   ]
  },
  {
   "cell_type": "code",
   "execution_count": null,
   "id": "b44c2de0",
   "metadata": {
    "vscode": {
     "languageId": "r"
    }
   },
   "outputs": [],
   "source": [
    "numbers <- c(1, 2, 3, 4, 5)  # Create a numeric vector\n",
    "squared <- numbers^2  # Square each element in the vector\n",
    "\n",
    "# Print the vector and its squared values\n",
    "print(\"Original Vector:\")\n",
    "print(numbers)\n",
    "print(\"Squared Values:\")\n",
    "print(squared)"
   ]
  },
  {
   "cell_type": "markdown",
   "id": "938244fb",
   "metadata": {},
   "source": [
    "## 3. Using Built-in Functions\n",
    "R provides many built-in functions for statistical analysis. Here, we calculate the mean and standard deviation of a vector."
   ]
  },
  {
   "cell_type": "code",
   "execution_count": null,
   "id": "c26c6b29",
   "metadata": {
    "vscode": {
     "languageId": "r"
    }
   },
   "outputs": [],
   "source": [
    "mean_value <- mean(numbers)\n",
    "std_dev <- sd(numbers)\n",
    "\n",
    "# Print the results\n",
    "print(paste(\"Mean:\", mean_value))\n",
    "print(paste(\"Standard Deviation:\", std_dev))"
   ]
  },
  {
   "cell_type": "markdown",
   "id": "0c68c9ef",
   "metadata": {},
   "source": [
    "## 4. Creating a Simple Data Frame\n",
    "Data frames are used to store tabular data. This example demonstrates how to create and print a data frame."
   ]
  },
  {
   "cell_type": "code",
   "execution_count": null,
   "id": "973e4811",
   "metadata": {
    "vscode": {
     "languageId": "r"
    }
   },
   "outputs": [],
   "source": [
    "data <- data.frame(\n",
    "  Name = c(\"Alice\", \"Bob\", \"Charlie\"),\n",
    "  Age = c(25, 30, 35),\n",
    "  Score = c(90, 85, 88)\n",
    " )\n",
    "\n",
    "# Print the data frame\n",
    "print(\"Data Frame:\")\n",
    "print(data)"
   ]
  },
  {
   "cell_type": "markdown",
   "id": "2e0386b1",
   "metadata": {},
   "source": [
    "## 5. Plotting a Simple Graph\n",
    "R has powerful plotting capabilities. This example demonstrates how to create a simple plot of numbers and their squared values."
   ]
  },
  {
   "cell_type": "code",
   "execution_count": null,
   "id": "edf224a7",
   "metadata": {
    "vscode": {
     "languageId": "r"
    }
   },
   "outputs": [],
   "source": [
    "plot(numbers, squared, type = \"b\", col = \"blue\", main = \"Numbers vs Squared Values\", xlab = \"Numbers\", ylab = \"Squared Values\")"
   ]
  }
 ],
 "metadata": {
  "language_info": {
   "name": "python"
  }
 },
 "nbformat": 4,
 "nbformat_minor": 5
}
